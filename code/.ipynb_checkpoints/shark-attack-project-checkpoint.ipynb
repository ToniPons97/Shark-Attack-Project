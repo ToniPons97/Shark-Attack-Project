{
 "cells": [
  {
   "cell_type": "code",
   "execution_count": 1,
   "metadata": {},
   "outputs": [],
   "source": [
    "import pandas as pd"
   ]
  },
  {
   "cell_type": "code",
   "execution_count": 2,
   "metadata": {},
   "outputs": [
    {
     "data": {
      "text/plain": [
       "(5992, 24)"
      ]
     },
     "execution_count": 2,
     "metadata": {},
     "output_type": "execute_result"
    }
   ],
   "source": [
    "df = pd.read_csv('../attacks.csv')\n",
    "df.head()\n",
    "# numero de columnas y filas del dataframe original\n",
    "df.shape"
   ]
  },
  {
   "cell_type": "code",
   "execution_count": 3,
   "metadata": {},
   "outputs": [
    {
     "data": {
      "text/plain": [
       "23109"
      ]
     },
     "execution_count": 3,
     "metadata": {},
     "output_type": "execute_result"
    }
   ],
   "source": [
    "# numero total de valores nulos\n",
    "df.isnull().sum().sum()"
   ]
  },
  {
   "cell_type": "code",
   "execution_count": 4,
   "metadata": {},
   "outputs": [
    {
     "data": {
      "text/plain": [
       "Country                     43\n",
       "Area                       402\n",
       "Location                   496\n",
       "Activity                   527\n",
       "Name                       200\n",
       "Sex                        567\n",
       "Age                       2681\n",
       "Injury                      27\n",
       "Fatal (Y/N)                 19\n",
       "Time                      3213\n",
       "Species                   2934\n",
       "Investigator or Source      15\n",
       "href formula                 1\n",
       "href                         3\n",
       "Unnamed: 22               5991\n",
       "Unnamed: 23               5990\n",
       "dtype: int64"
      ]
     },
     "execution_count": 4,
     "metadata": {},
     "output_type": "execute_result"
    }
   ],
   "source": [
    "# numero de valores nulos por columnas\n",
    "null_cols = df.isnull().sum()\n",
    "null_cols[null_cols > 0]"
   ]
  },
  {
   "cell_type": "code",
   "execution_count": 5,
   "metadata": {},
   "outputs": [
    {
     "data": {
      "text/plain": [
       "Case Number               5992\n",
       "Date                      5992\n",
       "Year                      5992\n",
       "Type                      5992\n",
       "Country                   5949\n",
       "Area                      5590\n",
       "Location                  5496\n",
       "Activity                  5465\n",
       "Name                      5792\n",
       "Sex                       5425\n",
       "Age                       3311\n",
       "Injury                    5965\n",
       "Fatal (Y/N)               5973\n",
       "Time                      2779\n",
       "Species                   3058\n",
       "Investigator or Source    5977\n",
       "pdf                       5992\n",
       "href formula              5991\n",
       "href                      5989\n",
       "Case Number.1             5992\n",
       "Case Number.2             5992\n",
       "original order            5992\n",
       "Unnamed: 22                  1\n",
       "Unnamed: 23                  2\n",
       "dtype: int64"
      ]
     },
     "execution_count": 5,
     "metadata": {},
     "output_type": "execute_result"
    }
   ],
   "source": [
    "# Ver el numero de valores no nulos por columna\n",
    "not_null_cols = df.notnull()\n",
    "not_null_cols.sum()"
   ]
  },
  {
   "cell_type": "code",
   "execution_count": 6,
   "metadata": {
    "scrolled": true
   },
   "outputs": [
    {
     "data": {
      "text/html": [
       "<div>\n",
       "<style scoped>\n",
       "    .dataframe tbody tr th:only-of-type {\n",
       "        vertical-align: middle;\n",
       "    }\n",
       "\n",
       "    .dataframe tbody tr th {\n",
       "        vertical-align: top;\n",
       "    }\n",
       "\n",
       "    .dataframe thead th {\n",
       "        text-align: right;\n",
       "    }\n",
       "</style>\n",
       "<table border=\"1\" class=\"dataframe\">\n",
       "  <thead>\n",
       "    <tr style=\"text-align: right;\">\n",
       "      <th></th>\n",
       "      <th>Case Number</th>\n",
       "      <th>Date</th>\n",
       "      <th>Year</th>\n",
       "      <th>Type</th>\n",
       "      <th>Country</th>\n",
       "      <th>Area</th>\n",
       "      <th>Location</th>\n",
       "      <th>Activity</th>\n",
       "      <th>Name</th>\n",
       "      <th>Sex</th>\n",
       "      <th>...</th>\n",
       "      <th>Species</th>\n",
       "      <th>Investigator or Source</th>\n",
       "      <th>pdf</th>\n",
       "      <th>href formula</th>\n",
       "      <th>href</th>\n",
       "      <th>Case Number.1</th>\n",
       "      <th>Case Number.2</th>\n",
       "      <th>original order</th>\n",
       "      <th>Unnamed1</th>\n",
       "      <th>Unnamed2</th>\n",
       "    </tr>\n",
       "  </thead>\n",
       "  <tbody>\n",
       "    <tr>\n",
       "      <th>1247</th>\n",
       "      <td>2006.06.18</td>\n",
       "      <td>18-Jun-06</td>\n",
       "      <td>2006</td>\n",
       "      <td>Unprovoked</td>\n",
       "      <td>BRAZIL</td>\n",
       "      <td>Pernambuco</td>\n",
       "      <td>Punta Del Chifre Beach, Olinda</td>\n",
       "      <td>Body boarding</td>\n",
       "      <td>Humberto Pessoa Batista</td>\n",
       "      <td>M</td>\n",
       "      <td>...</td>\n",
       "      <td>NaN</td>\n",
       "      <td>globalsurfnews.com</td>\n",
       "      <td>2006.06.18-Batista.pdf</td>\n",
       "      <td>http://sharkattackfile.net/spreadsheets/pdf_di...</td>\n",
       "      <td>http://sharkattackfile.net/spreadsheets/pdf_di...</td>\n",
       "      <td>2006.06.18</td>\n",
       "      <td>2006.06.18</td>\n",
       "      <td>4746</td>\n",
       "      <td>stopped here</td>\n",
       "      <td>NaN</td>\n",
       "    </tr>\n",
       "  </tbody>\n",
       "</table>\n",
       "<p>1 rows × 24 columns</p>\n",
       "</div>"
      ],
      "text/plain": [
       "     Case Number       Date  Year        Type Country        Area  \\\n",
       "1247  2006.06.18  18-Jun-06  2006  Unprovoked  BRAZIL  Pernambuco   \n",
       "\n",
       "                            Location       Activity                     Name  \\\n",
       "1247  Punta Del Chifre Beach, Olinda  Body boarding  Humberto Pessoa Batista   \n",
       "\n",
       "     Sex   ... Species  Investigator or Source                     pdf  \\\n",
       "1247    M  ...      NaN     globalsurfnews.com  2006.06.18-Batista.pdf   \n",
       "\n",
       "                                           href formula  \\\n",
       "1247  http://sharkattackfile.net/spreadsheets/pdf_di...   \n",
       "\n",
       "                                                   href Case Number.1  \\\n",
       "1247  http://sharkattackfile.net/spreadsheets/pdf_di...    2006.06.18   \n",
       "\n",
       "     Case Number.2 original order      Unnamed1 Unnamed2  \n",
       "1247    2006.06.18           4746  stopped here      NaN  \n",
       "\n",
       "[1 rows x 24 columns]"
      ]
     },
     "metadata": {},
     "output_type": "display_data"
    },
    {
     "data": {
      "text/html": [
       "<div>\n",
       "<style scoped>\n",
       "    .dataframe tbody tr th:only-of-type {\n",
       "        vertical-align: middle;\n",
       "    }\n",
       "\n",
       "    .dataframe tbody tr th {\n",
       "        vertical-align: top;\n",
       "    }\n",
       "\n",
       "    .dataframe thead th {\n",
       "        text-align: right;\n",
       "    }\n",
       "</style>\n",
       "<table border=\"1\" class=\"dataframe\">\n",
       "  <thead>\n",
       "    <tr style=\"text-align: right;\">\n",
       "      <th></th>\n",
       "      <th>Case Number</th>\n",
       "      <th>Date</th>\n",
       "      <th>Year</th>\n",
       "      <th>Type</th>\n",
       "      <th>Country</th>\n",
       "      <th>Area</th>\n",
       "      <th>Location</th>\n",
       "      <th>Activity</th>\n",
       "      <th>Name</th>\n",
       "      <th>Sex</th>\n",
       "      <th>...</th>\n",
       "      <th>Species</th>\n",
       "      <th>Investigator or Source</th>\n",
       "      <th>pdf</th>\n",
       "      <th>href formula</th>\n",
       "      <th>href</th>\n",
       "      <th>Case Number.1</th>\n",
       "      <th>Case Number.2</th>\n",
       "      <th>original order</th>\n",
       "      <th>Unnamed1</th>\n",
       "      <th>Unnamed2</th>\n",
       "    </tr>\n",
       "  </thead>\n",
       "  <tbody>\n",
       "    <tr>\n",
       "      <th>4182</th>\n",
       "      <td>1952.07.13</td>\n",
       "      <td>13-Jul-52</td>\n",
       "      <td>1952</td>\n",
       "      <td>Provoked</td>\n",
       "      <td>USA</td>\n",
       "      <td>California</td>\n",
       "      <td>San Diego, San Diego County</td>\n",
       "      <td>Fishing</td>\n",
       "      <td>Gerald Howard, on board sportsfishing boat Ter...</td>\n",
       "      <td>M</td>\n",
       "      <td>...</td>\n",
       "      <td>NaN</td>\n",
       "      <td>L.A. Times, 7/14/1952</td>\n",
       "      <td>1952.07.13-Howard.pdf</td>\n",
       "      <td>http://sharkattackfile.net/spreadsheets/pdf_di...</td>\n",
       "      <td>http://sharkattackfile.net/spreadsheets/pdf_di...</td>\n",
       "      <td>1952.07.13</td>\n",
       "      <td>1952.07.13</td>\n",
       "      <td>1811</td>\n",
       "      <td>NaN</td>\n",
       "      <td>Teramo</td>\n",
       "    </tr>\n",
       "    <tr>\n",
       "      <th>5585</th>\n",
       "      <td>1879.03.10</td>\n",
       "      <td>10-Mar-1879</td>\n",
       "      <td>1879</td>\n",
       "      <td>Invalid</td>\n",
       "      <td>AUSTRALIA</td>\n",
       "      <td>New South Wales</td>\n",
       "      <td>Near Sydney</td>\n",
       "      <td>The steamship Bonnie Dundee lost in collision</td>\n",
       "      <td>Cabin boy of the Bonnie Dundee</td>\n",
       "      <td>M</td>\n",
       "      <td>...</td>\n",
       "      <td>NaN</td>\n",
       "      <td>Star, 3/22/1879</td>\n",
       "      <td>1879.03.10-Bonnie-Dundee.pdf</td>\n",
       "      <td>http://sharkattackfile.net/spreadsheets/pdf_di...</td>\n",
       "      <td>http://sharkattackfile.net/spreadsheets/pdf_di...</td>\n",
       "      <td>1879.03.10</td>\n",
       "      <td>1879.03.10</td>\n",
       "      <td>408</td>\n",
       "      <td>NaN</td>\n",
       "      <td>change filename</td>\n",
       "    </tr>\n",
       "  </tbody>\n",
       "</table>\n",
       "<p>2 rows × 24 columns</p>\n",
       "</div>"
      ],
      "text/plain": [
       "     Case Number         Date  Year      Type    Country             Area  \\\n",
       "4182  1952.07.13    13-Jul-52  1952  Provoked        USA       California   \n",
       "5585  1879.03.10  10-Mar-1879  1879   Invalid  AUSTRALIA  New South Wales   \n",
       "\n",
       "                         Location  \\\n",
       "4182  San Diego, San Diego County   \n",
       "5585                 Near Sydney    \n",
       "\n",
       "                                           Activity  \\\n",
       "4182                                        Fishing   \n",
       "5585  The steamship Bonnie Dundee lost in collision   \n",
       "\n",
       "                                                   Name Sex   ... Species   \\\n",
       "4182  Gerald Howard, on board sportsfishing boat Ter...    M  ...      NaN   \n",
       "5585                     Cabin boy of the Bonnie Dundee    M  ...      NaN   \n",
       "\n",
       "      Investigator or Source                           pdf  \\\n",
       "4182  L.A. Times, 7/14/1952          1952.07.13-Howard.pdf   \n",
       "5585         Star, 3/22/1879  1879.03.10-Bonnie-Dundee.pdf   \n",
       "\n",
       "                                           href formula  \\\n",
       "4182  http://sharkattackfile.net/spreadsheets/pdf_di...   \n",
       "5585  http://sharkattackfile.net/spreadsheets/pdf_di...   \n",
       "\n",
       "                                                   href Case Number.1  \\\n",
       "4182  http://sharkattackfile.net/spreadsheets/pdf_di...    1952.07.13   \n",
       "5585  http://sharkattackfile.net/spreadsheets/pdf_di...    1879.03.10   \n",
       "\n",
       "     Case Number.2 original order Unnamed1         Unnamed2  \n",
       "4182    1952.07.13           1811      NaN           Teramo  \n",
       "5585    1879.03.10            408      NaN  change filename  \n",
       "\n",
       "[2 rows x 24 columns]"
      ]
     },
     "metadata": {},
     "output_type": "display_data"
    }
   ],
   "source": [
    "# Renombrar columnas\n",
    "df = df.rename(columns={\"Unnamed: 22\":\"Unnamed1\"})\n",
    "df = df.rename(columns={\"Unnamed: 23\":\"Unnamed2\"})\n",
    "# Ver cuantos valores no nulos hay en las columnas Unnamed1 y Unnamed2\n",
    "unnamed_not_null_1 = df[df.Unnamed1.notnull()]\n",
    "unnamed_not_null_2 = df[df.Unnamed2.notnull()]\n",
    "display(unnamed_not_null_1)\n",
    "display(unnamed_not_null_2)"
   ]
  },
  {
   "cell_type": "code",
   "execution_count": 7,
   "metadata": {},
   "outputs": [],
   "source": [
    "# Elimina Unnamed1 y Unnamed 2 por irrelevantes basado en el hecho de que solo tenian 1 o 2 valores no nulos\n",
    "df = df.drop(\"Unnamed1\", axis=1)\n",
    "df = df.drop(\"Unnamed2\", axis=1)"
   ]
  },
  {
   "cell_type": "code",
   "execution_count": 8,
   "metadata": {},
   "outputs": [],
   "source": [
    "df = df[df.Year > 1642]"
   ]
  },
  {
   "cell_type": "code",
   "execution_count": 9,
   "metadata": {},
   "outputs": [],
   "source": [
    "df = df.drop(\"href\", axis=1)\n",
    "df = df.drop(\"href formula\", axis=1)\n",
    "df = df.drop(\"pdf\", axis=1)"
   ]
  },
  {
   "cell_type": "code",
   "execution_count": 10,
   "metadata": {},
   "outputs": [],
   "source": [
    "df = df.drop(\"Date\", axis=1)\n",
    "df = df.drop(\"Sex \", axis=1)"
   ]
  },
  {
   "cell_type": "code",
   "execution_count": 11,
   "metadata": {},
   "outputs": [],
   "source": [
    "df =df.drop(\"Investigator or Source\", axis=1)"
   ]
  },
  {
   "cell_type": "code",
   "execution_count": 12,
   "metadata": {},
   "outputs": [],
   "source": [
    "df = df.drop(\"Case Number\", axis=1)"
   ]
  },
  {
   "cell_type": "code",
   "execution_count": 13,
   "metadata": {},
   "outputs": [],
   "source": [
    "# Columnas irrelevantes\n",
    "df = df.drop(\"Case Number.1\", axis=1)\n",
    "df = df.drop(\"Case Number.2\", axis=1)"
   ]
  },
  {
   "cell_type": "code",
   "execution_count": null,
   "metadata": {},
   "outputs": [],
   "source": []
  },
  {
   "cell_type": "code",
   "execution_count": 14,
   "metadata": {},
   "outputs": [],
   "source": [
    "df = df.drop(\"Time\", axis=1)"
   ]
  },
  {
   "cell_type": "code",
   "execution_count": 15,
   "metadata": {},
   "outputs": [],
   "source": [
    "df = df.drop(\"Location\", axis=1)"
   ]
  },
  {
   "cell_type": "code",
   "execution_count": 16,
   "metadata": {},
   "outputs": [],
   "source": [
    "df = df.drop(\"original order\", axis=1)"
   ]
  },
  {
   "cell_type": "code",
   "execution_count": 17,
   "metadata": {},
   "outputs": [],
   "source": [
    "df = df.drop(\"Injury\", axis=1)"
   ]
  },
  {
   "cell_type": "code",
   "execution_count": 18,
   "metadata": {},
   "outputs": [],
   "source": [
    "df = df.drop(\"Name\", axis=1)"
   ]
  },
  {
   "cell_type": "code",
   "execution_count": 19,
   "metadata": {},
   "outputs": [],
   "source": [
    "df = df.drop(\"Age\", axis=1)"
   ]
  },
  {
   "cell_type": "code",
   "execution_count": 20,
   "metadata": {},
   "outputs": [],
   "source": [
    "df = df.drop(\"Area\", axis=1)"
   ]
  },
  {
   "cell_type": "code",
   "execution_count": 21,
   "metadata": {},
   "outputs": [],
   "source": [
    "df = df.drop(\"Year\", axis=1)"
   ]
  },
  {
   "cell_type": "code",
   "execution_count": null,
   "metadata": {},
   "outputs": [],
   "source": []
  },
  {
   "cell_type": "code",
   "execution_count": 22,
   "metadata": {},
   "outputs": [],
   "source": [
    "df = df.drop(\"Country\", axis=1)"
   ]
  },
  {
   "cell_type": "code",
   "execution_count": 23,
   "metadata": {},
   "outputs": [
    {
     "data": {
      "text/plain": [
       "Type           5855\n",
       "Activity       5352\n",
       "Fatal (Y/N)    5836\n",
       "Species        3023\n",
       "dtype: int64"
      ]
     },
     "execution_count": 23,
     "metadata": {},
     "output_type": "execute_result"
    }
   ],
   "source": [
    "not_null_cols = df.notnull()\n",
    "not_null_cols.sum()"
   ]
  },
  {
   "cell_type": "code",
   "execution_count": 24,
   "metadata": {},
   "outputs": [],
   "source": [
    "df = df.rename(columns={\"Fatal (Y/N)\":\"Fatal\"})"
   ]
  },
  {
   "cell_type": "code",
   "execution_count": 25,
   "metadata": {},
   "outputs": [],
   "source": [
    "df = df.rename(columns={\"Species \":\"Species\"})"
   ]
  },
  {
   "cell_type": "code",
   "execution_count": 26,
   "metadata": {},
   "outputs": [
    {
     "name": "stdout",
     "output_type": "stream",
     "text": [
      "Fatal total null values: 0\n",
      "Fatal total not null values: 5855\n"
     ]
    }
   ],
   "source": [
    "df[\"Fatal\"] = df[\"Fatal\"].astype(str)\n",
    "fatal_col_nulls = df[\"Fatal\"].isnull().sum()\n",
    "fatal_col_not_nulls = df[\"Fatal\"].notnull().sum()\n",
    "\n",
    "print(\"Fatal total null values:\", fatal_col_nulls)\n",
    "print(\"Fatal total not null values:\", fatal_col_not_nulls)"
   ]
  },
  {
   "cell_type": "code",
   "execution_count": 27,
   "metadata": {},
   "outputs": [
    {
     "name": "stdout",
     "output_type": "stream",
     "text": [
      "{'N', 'UNKNOWN', 'Y', '#VALUE!', ' N', 'F', 'N ', 'n', 'nan'}\n"
     ]
    }
   ],
   "source": [
    "fatal_set = set(df[\"Fatal\"])\n",
    "print(fatal_set)"
   ]
  },
  {
   "cell_type": "code",
   "execution_count": 28,
   "metadata": {},
   "outputs": [],
   "source": [
    "df[\"Species\"].value_counts()\n",
    "species_set = set(df[\"Species\"])\n",
    "species_set\n",
    "df[\"Species\"] = df[\"Species\"].astype(str)"
   ]
  },
  {
   "cell_type": "code",
   "execution_count": 29,
   "metadata": {},
   "outputs": [
    {
     "data": {
      "text/plain": [
       "White shark                                              160\n",
       "Tiger shark                                               65\n",
       "Bull shark                                                48\n",
       "6' shark                                                  39\n",
       "4' shark                                                  39\n",
       "                                                        ... \n",
       "Tiger shark, 4 m to 4.3 m [13' to 14']                     1\n",
       "Porbeagle shark, 7'                                        1\n",
       "White shark, 3m, seen in area and hooked 3 days later      1\n",
       "Bronze whaler shark, 2 m to 3 m [6.75' to 10']             1\n",
       "Bull shark, 6' to 7'                                       1\n",
       "Name: Species, Length: 1518, dtype: int64"
      ]
     },
     "execution_count": 29,
     "metadata": {},
     "output_type": "execute_result"
    }
   ],
   "source": [
    "df = df[df.Species != \"Shark involvement not confirmed\"]\n",
    "df = df[df.Species != \"2.6 m [8.5'] shark landed 2 hours later\"]\n",
    "df = df[df.Species != \"Remains recovered 5 days later\"]\n",
    "df = df[df.Species != \"nan\"]\n",
    "df = df[df.Species != \"Lesser spotted dogfish, Scyliorhinus canicula, less than 80 cm in length\"]\n",
    "df = df[df.Species != \"NaN\"]\n",
    "df[\"Species\"].value_counts()"
   ]
  },
  {
   "cell_type": "code",
   "execution_count": 30,
   "metadata": {},
   "outputs": [
    {
     "data": {
      "text/plain": [
       "N          2453\n",
       "Y           455\n",
       "UNKNOWN      20\n",
       "nan           7\n",
       " N            5\n",
       "Name: Fatal, dtype: int64"
      ]
     },
     "execution_count": 30,
     "metadata": {},
     "output_type": "execute_result"
    }
   ],
   "source": [
    "df[\"Fatal\"].value_counts()"
   ]
  },
  {
   "cell_type": "code",
   "execution_count": 31,
   "metadata": {},
   "outputs": [],
   "source": [
    "df = df[df.Fatal != \" N\"]\n",
    "df = df[df.Fatal != \"N \"]\n",
    "df = df[df.Fatal != \"UNKNOWN\"]\n",
    "df = df[df.Fatal != \"nan\"]\n",
    "df = df[df.Fatal != \"F\"]\n",
    "df = df[df.Fatal != \"n\"]\n",
    "df = df[df.Fatal != \"#VALUE!\"]"
   ]
  },
  {
   "cell_type": "code",
   "execution_count": 32,
   "metadata": {},
   "outputs": [
    {
     "data": {
      "text/plain": [
       "N    2453\n",
       "Y     455\n",
       "Name: Fatal, dtype: int64"
      ]
     },
     "execution_count": 32,
     "metadata": {},
     "output_type": "execute_result"
    }
   ],
   "source": [
    "df[\"Fatal\"].value_counts()"
   ]
  },
  {
   "cell_type": "code",
   "execution_count": 33,
   "metadata": {},
   "outputs": [
    {
     "data": {
      "text/plain": [
       "count     2908\n",
       "unique       2\n",
       "top          N\n",
       "freq      2453\n",
       "Name: Fatal, dtype: object"
      ]
     },
     "execution_count": 33,
     "metadata": {},
     "output_type": "execute_result"
    }
   ],
   "source": [
    "df[\"Fatal\"].describe()"
   ]
  },
  {
   "cell_type": "code",
   "execution_count": 34,
   "metadata": {},
   "outputs": [
    {
     "data": {
      "text/html": [
       "<div>\n",
       "<style scoped>\n",
       "    .dataframe tbody tr th:only-of-type {\n",
       "        vertical-align: middle;\n",
       "    }\n",
       "\n",
       "    .dataframe tbody tr th {\n",
       "        vertical-align: top;\n",
       "    }\n",
       "\n",
       "    .dataframe thead th {\n",
       "        text-align: right;\n",
       "    }\n",
       "</style>\n",
       "<table border=\"1\" class=\"dataframe\">\n",
       "  <thead>\n",
       "    <tr style=\"text-align: right;\">\n",
       "      <th></th>\n",
       "      <th>Type</th>\n",
       "      <th>Activity</th>\n",
       "      <th>Fatal</th>\n",
       "      <th>Species</th>\n",
       "    </tr>\n",
       "  </thead>\n",
       "  <tbody>\n",
       "    <tr>\n",
       "      <th>4</th>\n",
       "      <td>Unprovoked</td>\n",
       "      <td>Surfing</td>\n",
       "      <td>N</td>\n",
       "      <td>2 m shark</td>\n",
       "    </tr>\n",
       "    <tr>\n",
       "      <th>6</th>\n",
       "      <td>Unprovoked</td>\n",
       "      <td>Wading</td>\n",
       "      <td>N</td>\n",
       "      <td>3' to 4' shark</td>\n",
       "    </tr>\n",
       "    <tr>\n",
       "      <th>7</th>\n",
       "      <td>Unprovoked</td>\n",
       "      <td>Swimming</td>\n",
       "      <td>N</td>\n",
       "      <td>Tiger shark, 10?</td>\n",
       "    </tr>\n",
       "    <tr>\n",
       "      <th>12</th>\n",
       "      <td>Unprovoked</td>\n",
       "      <td>Spearfishing</td>\n",
       "      <td>N</td>\n",
       "      <td>White shark</td>\n",
       "    </tr>\n",
       "    <tr>\n",
       "      <th>13</th>\n",
       "      <td>Unprovoked</td>\n",
       "      <td>Surfing</td>\n",
       "      <td>N</td>\n",
       "      <td>Bull shark, 6'</td>\n",
       "    </tr>\n",
       "    <tr>\n",
       "      <th>...</th>\n",
       "      <td>...</td>\n",
       "      <td>...</td>\n",
       "      <td>...</td>\n",
       "      <td>...</td>\n",
       "    </tr>\n",
       "    <tr>\n",
       "      <th>5839</th>\n",
       "      <td>Boat</td>\n",
       "      <td>NaN</td>\n",
       "      <td>Y</td>\n",
       "      <td>White sharks</td>\n",
       "    </tr>\n",
       "    <tr>\n",
       "      <th>5841</th>\n",
       "      <td>Invalid</td>\n",
       "      <td>Bathing</td>\n",
       "      <td>N</td>\n",
       "      <td>Description of shark does not ring true</td>\n",
       "    </tr>\n",
       "    <tr>\n",
       "      <th>5843</th>\n",
       "      <td>Unprovoked</td>\n",
       "      <td>Fell overboard from a frigate &amp; was swallowed ...</td>\n",
       "      <td>N</td>\n",
       "      <td>\"The fish was harpooned, dried, and presented ...</td>\n",
       "    </tr>\n",
       "    <tr>\n",
       "      <th>5850</th>\n",
       "      <td>Unprovoked</td>\n",
       "      <td>Swimming</td>\n",
       "      <td>Y</td>\n",
       "      <td>White shark, 1600-lb female</td>\n",
       "    </tr>\n",
       "    <tr>\n",
       "      <th>5853</th>\n",
       "      <td>Unprovoked</td>\n",
       "      <td>Bathing</td>\n",
       "      <td>N</td>\n",
       "      <td>White shark</td>\n",
       "    </tr>\n",
       "  </tbody>\n",
       "</table>\n",
       "<p>2908 rows × 4 columns</p>\n",
       "</div>"
      ],
      "text/plain": [
       "            Type                                           Activity Fatal  \\\n",
       "4     Unprovoked                                            Surfing     N   \n",
       "6     Unprovoked                                             Wading     N   \n",
       "7     Unprovoked                                           Swimming     N   \n",
       "12    Unprovoked                                       Spearfishing     N   \n",
       "13    Unprovoked                                            Surfing     N   \n",
       "...          ...                                                ...   ...   \n",
       "5839        Boat                                                NaN     Y   \n",
       "5841     Invalid                                            Bathing     N   \n",
       "5843  Unprovoked  Fell overboard from a frigate & was swallowed ...     N   \n",
       "5850  Unprovoked                                           Swimming     Y   \n",
       "5853  Unprovoked                                            Bathing     N   \n",
       "\n",
       "                                                Species  \n",
       "4                                             2 m shark  \n",
       "6                                        3' to 4' shark  \n",
       "7                                      Tiger shark, 10?  \n",
       "12                                          White shark  \n",
       "13                                       Bull shark, 6'  \n",
       "...                                                 ...  \n",
       "5839                                       White sharks  \n",
       "5841            Description of shark does not ring true  \n",
       "5843  \"The fish was harpooned, dried, and presented ...  \n",
       "5850                       White shark, 1600-lb female   \n",
       "5853                                        White shark  \n",
       "\n",
       "[2908 rows x 4 columns]"
      ]
     },
     "execution_count": 34,
     "metadata": {},
     "output_type": "execute_result"
    }
   ],
   "source": [
    "df"
   ]
  },
  {
   "cell_type": "code",
   "execution_count": 35,
   "metadata": {},
   "outputs": [
    {
     "data": {
      "text/plain": [
       "Unprovoked      2118\n",
       "Provoked         391\n",
       "Boat             159\n",
       "Invalid          159\n",
       "Boating           52\n",
       "Sea Disaster      29\n",
       "Name: Type, dtype: int64"
      ]
     },
     "execution_count": 35,
     "metadata": {},
     "output_type": "execute_result"
    }
   ],
   "source": [
    "df[\"Type\"].value_counts()"
   ]
  },
  {
   "cell_type": "code",
   "execution_count": 36,
   "metadata": {},
   "outputs": [
    {
     "data": {
      "text/plain": [
       "Unprovoked    2118\n",
       "Provoked       391\n",
       "Boat           159\n",
       "Boating         52\n",
       "Name: Type, dtype: int64"
      ]
     },
     "execution_count": 36,
     "metadata": {},
     "output_type": "execute_result"
    }
   ],
   "source": [
    "df = df[df.Type != \"Sea Disaster\"]\n",
    "df = df[df.Type != \"Invalid\"]\n",
    "\n",
    "df[\"Type\"].value_counts()"
   ]
  },
  {
   "cell_type": "code",
   "execution_count": 37,
   "metadata": {},
   "outputs": [
    {
     "data": {
      "text/html": [
       "<div>\n",
       "<style scoped>\n",
       "    .dataframe tbody tr th:only-of-type {\n",
       "        vertical-align: middle;\n",
       "    }\n",
       "\n",
       "    .dataframe tbody tr th {\n",
       "        vertical-align: top;\n",
       "    }\n",
       "\n",
       "    .dataframe thead th {\n",
       "        text-align: right;\n",
       "    }\n",
       "</style>\n",
       "<table border=\"1\" class=\"dataframe\">\n",
       "  <thead>\n",
       "    <tr style=\"text-align: right;\">\n",
       "      <th></th>\n",
       "      <th>Type</th>\n",
       "      <th>Activity</th>\n",
       "      <th>Fatal</th>\n",
       "      <th>Species</th>\n",
       "    </tr>\n",
       "  </thead>\n",
       "  <tbody>\n",
       "    <tr>\n",
       "      <th>4</th>\n",
       "      <td>Unprovoked</td>\n",
       "      <td>Surfing</td>\n",
       "      <td>N</td>\n",
       "      <td>2 m shark</td>\n",
       "    </tr>\n",
       "    <tr>\n",
       "      <th>6</th>\n",
       "      <td>Unprovoked</td>\n",
       "      <td>Wading</td>\n",
       "      <td>N</td>\n",
       "      <td>3' to 4' shark</td>\n",
       "    </tr>\n",
       "    <tr>\n",
       "      <th>7</th>\n",
       "      <td>Unprovoked</td>\n",
       "      <td>Swimming</td>\n",
       "      <td>N</td>\n",
       "      <td>Tiger shark, 10?</td>\n",
       "    </tr>\n",
       "    <tr>\n",
       "      <th>12</th>\n",
       "      <td>Unprovoked</td>\n",
       "      <td>Spearfishing</td>\n",
       "      <td>N</td>\n",
       "      <td>White shark</td>\n",
       "    </tr>\n",
       "    <tr>\n",
       "      <th>13</th>\n",
       "      <td>Unprovoked</td>\n",
       "      <td>Surfing</td>\n",
       "      <td>N</td>\n",
       "      <td>Bull shark, 6'</td>\n",
       "    </tr>\n",
       "    <tr>\n",
       "      <th>...</th>\n",
       "      <td>...</td>\n",
       "      <td>...</td>\n",
       "      <td>...</td>\n",
       "      <td>...</td>\n",
       "    </tr>\n",
       "    <tr>\n",
       "      <th>5836</th>\n",
       "      <td>Unprovoked</td>\n",
       "      <td>NaN</td>\n",
       "      <td>Y</td>\n",
       "      <td>Tiger shark?</td>\n",
       "    </tr>\n",
       "    <tr>\n",
       "      <th>5839</th>\n",
       "      <td>Boat</td>\n",
       "      <td>NaN</td>\n",
       "      <td>Y</td>\n",
       "      <td>White sharks</td>\n",
       "    </tr>\n",
       "    <tr>\n",
       "      <th>5843</th>\n",
       "      <td>Unprovoked</td>\n",
       "      <td>Fell overboard from a frigate &amp; was swallowed ...</td>\n",
       "      <td>N</td>\n",
       "      <td>\"The fish was harpooned, dried, and presented ...</td>\n",
       "    </tr>\n",
       "    <tr>\n",
       "      <th>5850</th>\n",
       "      <td>Unprovoked</td>\n",
       "      <td>Swimming</td>\n",
       "      <td>Y</td>\n",
       "      <td>White shark, 1600-lb female</td>\n",
       "    </tr>\n",
       "    <tr>\n",
       "      <th>5853</th>\n",
       "      <td>Unprovoked</td>\n",
       "      <td>Bathing</td>\n",
       "      <td>N</td>\n",
       "      <td>White shark</td>\n",
       "    </tr>\n",
       "  </tbody>\n",
       "</table>\n",
       "<p>2720 rows × 4 columns</p>\n",
       "</div>"
      ],
      "text/plain": [
       "            Type                                           Activity Fatal  \\\n",
       "4     Unprovoked                                            Surfing     N   \n",
       "6     Unprovoked                                             Wading     N   \n",
       "7     Unprovoked                                           Swimming     N   \n",
       "12    Unprovoked                                       Spearfishing     N   \n",
       "13    Unprovoked                                            Surfing     N   \n",
       "...          ...                                                ...   ...   \n",
       "5836  Unprovoked                                                NaN     Y   \n",
       "5839        Boat                                                NaN     Y   \n",
       "5843  Unprovoked  Fell overboard from a frigate & was swallowed ...     N   \n",
       "5850  Unprovoked                                           Swimming     Y   \n",
       "5853  Unprovoked                                            Bathing     N   \n",
       "\n",
       "                                                Species  \n",
       "4                                             2 m shark  \n",
       "6                                        3' to 4' shark  \n",
       "7                                      Tiger shark, 10?  \n",
       "12                                          White shark  \n",
       "13                                       Bull shark, 6'  \n",
       "...                                                 ...  \n",
       "5836                                       Tiger shark?  \n",
       "5839                                       White sharks  \n",
       "5843  \"The fish was harpooned, dried, and presented ...  \n",
       "5850                       White shark, 1600-lb female   \n",
       "5853                                        White shark  \n",
       "\n",
       "[2720 rows x 4 columns]"
      ]
     },
     "execution_count": 37,
     "metadata": {},
     "output_type": "execute_result"
    }
   ],
   "source": [
    "df"
   ]
  },
  {
   "cell_type": "code",
   "execution_count": null,
   "metadata": {},
   "outputs": [],
   "source": []
  },
  {
   "cell_type": "code",
   "execution_count": null,
   "metadata": {},
   "outputs": [],
   "source": []
  }
 ],
 "metadata": {
  "kernelspec": {
   "display_name": "Python 3",
   "language": "python",
   "name": "python3"
  },
  "language_info": {
   "codemirror_mode": {
    "name": "ipython",
    "version": 3
   },
   "file_extension": ".py",
   "mimetype": "text/x-python",
   "name": "python",
   "nbconvert_exporter": "python",
   "pygments_lexer": "ipython3",
   "version": "3.7.4"
  }
 },
 "nbformat": 4,
 "nbformat_minor": 2
}
