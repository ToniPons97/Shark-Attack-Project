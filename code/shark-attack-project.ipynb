{
 "cells": [
  {
   "cell_type": "code",
   "execution_count": 43,
   "metadata": {},
   "outputs": [],
   "source": [
    "import pandas as pd"
   ]
  },
  {
   "cell_type": "code",
   "execution_count": 44,
   "metadata": {},
   "outputs": [
    {
     "data": {
      "text/plain": [
       "(5992, 24)"
      ]
     },
     "execution_count": 44,
     "metadata": {},
     "output_type": "execute_result"
    }
   ],
   "source": [
    "df = pd.read_csv('../attacks.csv')\n",
    "df.head()\n",
    "# numero de columnas y filas del dataframe original\n",
    "df.shape"
   ]
  },
  {
   "cell_type": "code",
   "execution_count": 45,
   "metadata": {},
   "outputs": [
    {
     "data": {
      "text/plain": [
       "23109"
      ]
     },
     "execution_count": 45,
     "metadata": {},
     "output_type": "execute_result"
    }
   ],
   "source": [
    "# numero total de valores nulos\n",
    "df.isnull().sum().sum()"
   ]
  },
  {
   "cell_type": "code",
   "execution_count": 46,
   "metadata": {},
   "outputs": [
    {
     "data": {
      "text/plain": [
       "Country                     43\n",
       "Area                       402\n",
       "Location                   496\n",
       "Activity                   527\n",
       "Name                       200\n",
       "Sex                        567\n",
       "Age                       2681\n",
       "Injury                      27\n",
       "Fatal (Y/N)                 19\n",
       "Time                      3213\n",
       "Species                   2934\n",
       "Investigator or Source      15\n",
       "href formula                 1\n",
       "href                         3\n",
       "Unnamed: 22               5991\n",
       "Unnamed: 23               5990\n",
       "dtype: int64"
      ]
     },
     "execution_count": 46,
     "metadata": {},
     "output_type": "execute_result"
    }
   ],
   "source": [
    "# numero de valores nulos por columnas\n",
    "null_cols = df.isnull().sum()\n",
    "null_cols[null_cols > 0]"
   ]
  },
  {
   "cell_type": "code",
   "execution_count": 47,
   "metadata": {},
   "outputs": [
    {
     "data": {
      "text/plain": [
       "Case Number               5992\n",
       "Date                      5992\n",
       "Year                      5992\n",
       "Type                      5992\n",
       "Country                   5949\n",
       "Area                      5590\n",
       "Location                  5496\n",
       "Activity                  5465\n",
       "Name                      5792\n",
       "Sex                       5425\n",
       "Age                       3311\n",
       "Injury                    5965\n",
       "Fatal (Y/N)               5973\n",
       "Time                      2779\n",
       "Species                   3058\n",
       "Investigator or Source    5977\n",
       "pdf                       5992\n",
       "href formula              5991\n",
       "href                      5989\n",
       "Case Number.1             5992\n",
       "Case Number.2             5992\n",
       "original order            5992\n",
       "Unnamed: 22                  1\n",
       "Unnamed: 23                  2\n",
       "dtype: int64"
      ]
     },
     "execution_count": 47,
     "metadata": {},
     "output_type": "execute_result"
    }
   ],
   "source": [
    "# Ver el numero de valores no nulos por columna\n",
    "not_null_cols = df.notnull()\n",
    "not_null_cols.sum()"
   ]
  },
  {
   "cell_type": "code",
   "execution_count": 48,
   "metadata": {
    "scrolled": true
   },
   "outputs": [
    {
     "data": {
      "text/html": [
       "<div>\n",
       "<style scoped>\n",
       "    .dataframe tbody tr th:only-of-type {\n",
       "        vertical-align: middle;\n",
       "    }\n",
       "\n",
       "    .dataframe tbody tr th {\n",
       "        vertical-align: top;\n",
       "    }\n",
       "\n",
       "    .dataframe thead th {\n",
       "        text-align: right;\n",
       "    }\n",
       "</style>\n",
       "<table border=\"1\" class=\"dataframe\">\n",
       "  <thead>\n",
       "    <tr style=\"text-align: right;\">\n",
       "      <th></th>\n",
       "      <th>Case Number</th>\n",
       "      <th>Date</th>\n",
       "      <th>Year</th>\n",
       "      <th>Type</th>\n",
       "      <th>Country</th>\n",
       "      <th>Area</th>\n",
       "      <th>Location</th>\n",
       "      <th>Activity</th>\n",
       "      <th>Name</th>\n",
       "      <th>Sex</th>\n",
       "      <th>...</th>\n",
       "      <th>Species</th>\n",
       "      <th>Investigator or Source</th>\n",
       "      <th>pdf</th>\n",
       "      <th>href formula</th>\n",
       "      <th>href</th>\n",
       "      <th>Case Number.1</th>\n",
       "      <th>Case Number.2</th>\n",
       "      <th>original order</th>\n",
       "      <th>Unnamed1</th>\n",
       "      <th>Unnamed2</th>\n",
       "    </tr>\n",
       "  </thead>\n",
       "  <tbody>\n",
       "    <tr>\n",
       "      <th>1247</th>\n",
       "      <td>2006.06.18</td>\n",
       "      <td>18-Jun-06</td>\n",
       "      <td>2006</td>\n",
       "      <td>Unprovoked</td>\n",
       "      <td>BRAZIL</td>\n",
       "      <td>Pernambuco</td>\n",
       "      <td>Punta Del Chifre Beach, Olinda</td>\n",
       "      <td>Body boarding</td>\n",
       "      <td>Humberto Pessoa Batista</td>\n",
       "      <td>M</td>\n",
       "      <td>...</td>\n",
       "      <td>NaN</td>\n",
       "      <td>globalsurfnews.com</td>\n",
       "      <td>2006.06.18-Batista.pdf</td>\n",
       "      <td>http://sharkattackfile.net/spreadsheets/pdf_di...</td>\n",
       "      <td>http://sharkattackfile.net/spreadsheets/pdf_di...</td>\n",
       "      <td>2006.06.18</td>\n",
       "      <td>2006.06.18</td>\n",
       "      <td>4746</td>\n",
       "      <td>stopped here</td>\n",
       "      <td>NaN</td>\n",
       "    </tr>\n",
       "  </tbody>\n",
       "</table>\n",
       "<p>1 rows × 24 columns</p>\n",
       "</div>"
      ],
      "text/plain": [
       "     Case Number       Date  Year        Type Country        Area  \\\n",
       "1247  2006.06.18  18-Jun-06  2006  Unprovoked  BRAZIL  Pernambuco   \n",
       "\n",
       "                            Location       Activity                     Name  \\\n",
       "1247  Punta Del Chifre Beach, Olinda  Body boarding  Humberto Pessoa Batista   \n",
       "\n",
       "     Sex   ... Species  Investigator or Source                     pdf  \\\n",
       "1247    M  ...      NaN     globalsurfnews.com  2006.06.18-Batista.pdf   \n",
       "\n",
       "                                           href formula  \\\n",
       "1247  http://sharkattackfile.net/spreadsheets/pdf_di...   \n",
       "\n",
       "                                                   href Case Number.1  \\\n",
       "1247  http://sharkattackfile.net/spreadsheets/pdf_di...    2006.06.18   \n",
       "\n",
       "     Case Number.2 original order      Unnamed1 Unnamed2  \n",
       "1247    2006.06.18           4746  stopped here      NaN  \n",
       "\n",
       "[1 rows x 24 columns]"
      ]
     },
     "metadata": {},
     "output_type": "display_data"
    },
    {
     "data": {
      "text/html": [
       "<div>\n",
       "<style scoped>\n",
       "    .dataframe tbody tr th:only-of-type {\n",
       "        vertical-align: middle;\n",
       "    }\n",
       "\n",
       "    .dataframe tbody tr th {\n",
       "        vertical-align: top;\n",
       "    }\n",
       "\n",
       "    .dataframe thead th {\n",
       "        text-align: right;\n",
       "    }\n",
       "</style>\n",
       "<table border=\"1\" class=\"dataframe\">\n",
       "  <thead>\n",
       "    <tr style=\"text-align: right;\">\n",
       "      <th></th>\n",
       "      <th>Case Number</th>\n",
       "      <th>Date</th>\n",
       "      <th>Year</th>\n",
       "      <th>Type</th>\n",
       "      <th>Country</th>\n",
       "      <th>Area</th>\n",
       "      <th>Location</th>\n",
       "      <th>Activity</th>\n",
       "      <th>Name</th>\n",
       "      <th>Sex</th>\n",
       "      <th>...</th>\n",
       "      <th>Species</th>\n",
       "      <th>Investigator or Source</th>\n",
       "      <th>pdf</th>\n",
       "      <th>href formula</th>\n",
       "      <th>href</th>\n",
       "      <th>Case Number.1</th>\n",
       "      <th>Case Number.2</th>\n",
       "      <th>original order</th>\n",
       "      <th>Unnamed1</th>\n",
       "      <th>Unnamed2</th>\n",
       "    </tr>\n",
       "  </thead>\n",
       "  <tbody>\n",
       "    <tr>\n",
       "      <th>4182</th>\n",
       "      <td>1952.07.13</td>\n",
       "      <td>13-Jul-52</td>\n",
       "      <td>1952</td>\n",
       "      <td>Provoked</td>\n",
       "      <td>USA</td>\n",
       "      <td>California</td>\n",
       "      <td>San Diego, San Diego County</td>\n",
       "      <td>Fishing</td>\n",
       "      <td>Gerald Howard, on board sportsfishing boat Ter...</td>\n",
       "      <td>M</td>\n",
       "      <td>...</td>\n",
       "      <td>NaN</td>\n",
       "      <td>L.A. Times, 7/14/1952</td>\n",
       "      <td>1952.07.13-Howard.pdf</td>\n",
       "      <td>http://sharkattackfile.net/spreadsheets/pdf_di...</td>\n",
       "      <td>http://sharkattackfile.net/spreadsheets/pdf_di...</td>\n",
       "      <td>1952.07.13</td>\n",
       "      <td>1952.07.13</td>\n",
       "      <td>1811</td>\n",
       "      <td>NaN</td>\n",
       "      <td>Teramo</td>\n",
       "    </tr>\n",
       "    <tr>\n",
       "      <th>5585</th>\n",
       "      <td>1879.03.10</td>\n",
       "      <td>10-Mar-1879</td>\n",
       "      <td>1879</td>\n",
       "      <td>Invalid</td>\n",
       "      <td>AUSTRALIA</td>\n",
       "      <td>New South Wales</td>\n",
       "      <td>Near Sydney</td>\n",
       "      <td>The steamship Bonnie Dundee lost in collision</td>\n",
       "      <td>Cabin boy of the Bonnie Dundee</td>\n",
       "      <td>M</td>\n",
       "      <td>...</td>\n",
       "      <td>NaN</td>\n",
       "      <td>Star, 3/22/1879</td>\n",
       "      <td>1879.03.10-Bonnie-Dundee.pdf</td>\n",
       "      <td>http://sharkattackfile.net/spreadsheets/pdf_di...</td>\n",
       "      <td>http://sharkattackfile.net/spreadsheets/pdf_di...</td>\n",
       "      <td>1879.03.10</td>\n",
       "      <td>1879.03.10</td>\n",
       "      <td>408</td>\n",
       "      <td>NaN</td>\n",
       "      <td>change filename</td>\n",
       "    </tr>\n",
       "  </tbody>\n",
       "</table>\n",
       "<p>2 rows × 24 columns</p>\n",
       "</div>"
      ],
      "text/plain": [
       "     Case Number         Date  Year      Type    Country             Area  \\\n",
       "4182  1952.07.13    13-Jul-52  1952  Provoked        USA       California   \n",
       "5585  1879.03.10  10-Mar-1879  1879   Invalid  AUSTRALIA  New South Wales   \n",
       "\n",
       "                         Location  \\\n",
       "4182  San Diego, San Diego County   \n",
       "5585                 Near Sydney    \n",
       "\n",
       "                                           Activity  \\\n",
       "4182                                        Fishing   \n",
       "5585  The steamship Bonnie Dundee lost in collision   \n",
       "\n",
       "                                                   Name Sex   ... Species   \\\n",
       "4182  Gerald Howard, on board sportsfishing boat Ter...    M  ...      NaN   \n",
       "5585                     Cabin boy of the Bonnie Dundee    M  ...      NaN   \n",
       "\n",
       "      Investigator or Source                           pdf  \\\n",
       "4182  L.A. Times, 7/14/1952          1952.07.13-Howard.pdf   \n",
       "5585         Star, 3/22/1879  1879.03.10-Bonnie-Dundee.pdf   \n",
       "\n",
       "                                           href formula  \\\n",
       "4182  http://sharkattackfile.net/spreadsheets/pdf_di...   \n",
       "5585  http://sharkattackfile.net/spreadsheets/pdf_di...   \n",
       "\n",
       "                                                   href Case Number.1  \\\n",
       "4182  http://sharkattackfile.net/spreadsheets/pdf_di...    1952.07.13   \n",
       "5585  http://sharkattackfile.net/spreadsheets/pdf_di...    1879.03.10   \n",
       "\n",
       "     Case Number.2 original order Unnamed1         Unnamed2  \n",
       "4182    1952.07.13           1811      NaN           Teramo  \n",
       "5585    1879.03.10            408      NaN  change filename  \n",
       "\n",
       "[2 rows x 24 columns]"
      ]
     },
     "metadata": {},
     "output_type": "display_data"
    }
   ],
   "source": [
    "# Renombrar columnas\n",
    "df = df.rename(columns={\"Unnamed: 22\":\"Unnamed1\"})\n",
    "df = df.rename(columns={\"Unnamed: 23\":\"Unnamed2\"})\n",
    "# Ver cuantos valores no nulos hay en las columnas Unnamed1 y Unnamed2\n",
    "unnamed_not_null_1 = df[df.Unnamed1.notnull()]\n",
    "unnamed_not_null_2 = df[df.Unnamed2.notnull()]\n",
    "display(unnamed_not_null_1)\n",
    "display(unnamed_not_null_2)"
   ]
  },
  {
   "cell_type": "code",
   "execution_count": 49,
   "metadata": {},
   "outputs": [],
   "source": [
    "# Elimina Unnamed1 y Unnamed 2 por irrelevantes basado en el hecho de que solo tenian 1 o 2 valores no nulos\n",
    "df = df.drop(\"Unnamed1\", axis=1)\n",
    "df = df.drop(\"Unnamed2\", axis=1)"
   ]
  },
  {
   "cell_type": "code",
   "execution_count": 50,
   "metadata": {},
   "outputs": [],
   "source": [
    "df = df.drop(\"href\", axis=1)\n",
    "df = df.drop(\"href formula\", axis=1)"
   ]
  },
  {
   "cell_type": "code",
   "execution_count": null,
   "metadata": {},
   "outputs": [],
   "source": []
  },
  {
   "cell_type": "code",
   "execution_count": 51,
   "metadata": {},
   "outputs": [],
   "source": [
    "df =df.drop(\"Investigator or Source\", axis=1)"
   ]
  },
  {
   "cell_type": "code",
   "execution_count": 52,
   "metadata": {},
   "outputs": [],
   "source": [
    "df = df.drop(\"Case Number\", axis=1)"
   ]
  },
  {
   "cell_type": "code",
   "execution_count": 53,
   "metadata": {},
   "outputs": [],
   "source": [
    "# Columnas irrelevantes\n",
    "df = df.drop(\"Case Number.1\", axis=1)\n",
    "df = df.drop(\"Case Number.2\", axis=1)"
   ]
  },
  {
   "cell_type": "code",
   "execution_count": 54,
   "metadata": {},
   "outputs": [],
   "source": [
    "# Irrelevante para mi hipotesis\n",
    "df = df.drop(\"Species \", axis=1)"
   ]
  },
  {
   "cell_type": "code",
   "execution_count": 55,
   "metadata": {},
   "outputs": [],
   "source": [
    "df = df.drop(\"Time\", axis=1)"
   ]
  },
  {
   "cell_type": "code",
   "execution_count": 56,
   "metadata": {},
   "outputs": [],
   "source": [
    "df = df.drop(\"Location\", axis=1)"
   ]
  },
  {
   "cell_type": "code",
   "execution_count": 57,
   "metadata": {},
   "outputs": [],
   "source": [
    "df = df.drop(\"original order\", axis=1)"
   ]
  },
  {
   "cell_type": "code",
   "execution_count": 58,
   "metadata": {},
   "outputs": [],
   "source": [
    "df = df.drop(\"Injury\", axis=1)"
   ]
  },
  {
   "cell_type": "code",
   "execution_count": 59,
   "metadata": {},
   "outputs": [],
   "source": [
    "df = df.drop(\"Name\", axis=1)"
   ]
  },
  {
   "cell_type": "code",
   "execution_count": 60,
   "metadata": {},
   "outputs": [],
   "source": [
    "df = df.drop(\"Age\", axis=1)"
   ]
  },
  {
   "cell_type": "code",
   "execution_count": 61,
   "metadata": {},
   "outputs": [],
   "source": [
    "df = df.drop(\"Area\", axis=1)"
   ]
  },
  {
   "cell_type": "code",
   "execution_count": 62,
   "metadata": {},
   "outputs": [],
   "source": [
    "df = df.drop(\"Year\", axis=1)"
   ]
  },
  {
   "cell_type": "code",
   "execution_count": 63,
   "metadata": {},
   "outputs": [],
   "source": [
    "df = df.drop(\"Activity\", axis=1)"
   ]
  },
  {
   "cell_type": "code",
   "execution_count": 64,
   "metadata": {},
   "outputs": [],
   "source": [
    "df = df.drop(\"Country\", axis=1)"
   ]
  },
  {
   "cell_type": "code",
   "execution_count": 65,
   "metadata": {},
   "outputs": [
    {
     "data": {
      "text/plain": [
       "Date           5992\n",
       "Type           5992\n",
       "Sex            5425\n",
       "Fatal (Y/N)    5973\n",
       "pdf            5992\n",
       "dtype: int64"
      ]
     },
     "execution_count": 65,
     "metadata": {},
     "output_type": "execute_result"
    }
   ],
   "source": [
    "not_null_cols = df.notnull()\n",
    "not_null_cols.sum()"
   ]
  },
  {
   "cell_type": "code",
   "execution_count": 66,
   "metadata": {},
   "outputs": [],
   "source": [
    "df = df.rename(columns={\"Fatal (Y/N)\":\"Fatal\"})"
   ]
  },
  {
   "cell_type": "code",
   "execution_count": 67,
   "metadata": {},
   "outputs": [],
   "source": [
    "df = df.rename(columns={\"Type\":\"Type of attack\"})"
   ]
  },
  {
   "cell_type": "code",
   "execution_count": 71,
   "metadata": {},
   "outputs": [
    {
     "name": "stdout",
     "output_type": "stream",
     "text": [
      "Fatal total null values: 0\n",
      "Fatal total not null values: 5992\n"
     ]
    }
   ],
   "source": [
    "df[\"Fatal\"] = df[\"Fatal\"].astype(str)\n",
    "fatal_col_nulls = df[\"Fatal\"].isnull().sum()\n",
    "fatal_col_not_nulls = df[\"Fatal\"].notnull().sum()\n",
    "\n",
    "print(\"Fatal total null values:\", fatal_col_nulls)\n",
    "print(\"Fatal total not null values:\", fatal_col_not_nulls)"
   ]
  },
  {
   "cell_type": "code",
   "execution_count": 72,
   "metadata": {},
   "outputs": [
    {
     "name": "stdout",
     "output_type": "stream",
     "text": [
      "{'n', 'nan', '#VALUE!', 'N', 'N ', ' N', 'Y', 'F', 'UNKNOWN'}\n"
     ]
    }
   ],
   "source": [
    "fatal_set = set(df[\"Fatal\"])\n",
    "print(fatal_set)"
   ]
  },
  {
   "cell_type": "code",
   "execution_count": 101,
   "metadata": {},
   "outputs": [],
   "source": [
    "fatal_series = pd.Series(df[\"Fatal\"])\n",
    "def strip_spaces(serie):\n",
    "    for i in serie:\n",
    "        i = i.strip() \n",
    "        return i\n",
    "    \n",
    "\n",
    "def replace(serie):\n",
    "    for i in serie:\n",
    "        if i == \"n\":\n",
    "            i = \"N\"\n",
    "            return i\n",
    "        \n",
    "\n",
    "\n",
    "    \n",
    "\n",
    "    \n",
    "fatal_stripped = fatal_series.apply(strip_spaces)\n",
    "fatal_replaced = fatal_series.apply(replace)"
   ]
  },
  {
   "cell_type": "code",
   "execution_count": 103,
   "metadata": {},
   "outputs": [
    {
     "data": {
      "text/plain": [
       "{'', '#', 'F', 'N', 'U', 'Y', 'n'}"
      ]
     },
     "execution_count": 103,
     "metadata": {},
     "output_type": "execute_result"
    }
   ],
   "source": [
    "fatal_stripped_set = set(fatal_stripped)\n",
    "fatal_stripped_set"
   ]
  },
  {
   "cell_type": "code",
   "execution_count": 104,
   "metadata": {},
   "outputs": [
    {
     "data": {
      "text/plain": [
       "count     5992\n",
       "unique       7\n",
       "top          N\n",
       "freq      4316\n",
       "Name: Fatal, dtype: object"
      ]
     },
     "execution_count": 104,
     "metadata": {},
     "output_type": "execute_result"
    }
   ],
   "source": [
    "fatal_stripped.describe()"
   ]
  },
  {
   "cell_type": "code",
   "execution_count": null,
   "metadata": {},
   "outputs": [],
   "source": []
  }
 ],
 "metadata": {
  "kernelspec": {
   "display_name": "Python 3",
   "language": "python",
   "name": "python3"
  },
  "language_info": {
   "codemirror_mode": {
    "name": "ipython",
    "version": 3
   },
   "file_extension": ".py",
   "mimetype": "text/x-python",
   "name": "python",
   "nbconvert_exporter": "python",
   "pygments_lexer": "ipython3",
   "version": "3.7.4"
  }
 },
 "nbformat": 4,
 "nbformat_minor": 2
}
