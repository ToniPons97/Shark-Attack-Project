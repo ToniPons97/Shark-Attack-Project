{
 "cells": [
  {
   "cell_type": "code",
   "execution_count": null,
   "metadata": {},
   "outputs": [],
   "source": [
    "# Importo pandas y matplotlib\n",
    "import pandas as pd\n",
    "import matplotlib.pyplot as plt"
   ]
  },
  {
   "cell_type": "code",
   "execution_count": null,
   "metadata": {},
   "outputs": [],
   "source": [
    "# Leo el csv que contiene el dataset\n",
    "df = pd.read_csv('../attacks.csv')\n",
    "df.head()\n",
    "# Saco el numero de columnas y filas del dataframe original\n",
    "df.shape"
   ]
  },
  {
   "cell_type": "code",
   "execution_count": null,
   "metadata": {},
   "outputs": [],
   "source": [
    "# Saco el numero total de valores nulos\n",
    "df.isnull().sum().sum()"
   ]
  },
  {
   "cell_type": "code",
   "execution_count": null,
   "metadata": {},
   "outputs": [],
   "source": [
    "# Saco el numero de valores nulos por columnas\n",
    "null_cols = df.isnull().sum()\n",
    "null_cols[null_cols > 0]"
   ]
  },
  {
   "cell_type": "code",
   "execution_count": null,
   "metadata": {},
   "outputs": [],
   "source": [
    "# Saco el numero de valores no nulos por columna\n",
    "not_null_cols = df.notnull()\n",
    "not_null_cols.sum()"
   ]
  },
  {
   "cell_type": "code",
   "execution_count": null,
   "metadata": {
    "scrolled": true
   },
   "outputs": [],
   "source": [
    "# Renombro columnas\n",
    "df = df.rename(columns={\"Unnamed: 22\":\"Unnamed1\"})\n",
    "df = df.rename(columns={\"Unnamed: 23\":\"Unnamed2\"})"
   ]
  },
  {
   "cell_type": "code",
   "execution_count": null,
   "metadata": {},
   "outputs": [],
   "source": [
    "# Elimino Unnamed1 y Unnamed 2 por irrelevantes basado en el hecho de que solo tenian 1 o 2 valores no nulos y tambien por irrelevantes para mi hipotesis\n",
    "df = df.drop(\"Unnamed1\", axis=1)\n",
    "df = df.drop(\"Unnamed2\", axis=1)"
   ]
  },
  {
   "cell_type": "code",
   "execution_count": null,
   "metadata": {},
   "outputs": [],
   "source": [
    "# Elimino mas columnas por las mismas razones\n",
    "df = df.drop([\"href\", \"href formula\", \"pdf\", \"Date\", \"Sex \", \"Investigator or Source\", \"Case Number\", \"Case Number.1\", \"Case Number.2\", \"Time\", \"Location\", \"original order\", \"Injury\", \"Name\", \"Age\", \"Area\", \"Year\", \"Country\", ], axis=1)"
   ]
  },
  {
   "cell_type": "code",
   "execution_count": null,
   "metadata": {},
   "outputs": [],
   "source": [
    "# Vuelvo a ver cuantos valores no nulos hay en las columnas con las que me he quedado\n",
    "not_null_cols = df.notnull()\n",
    "not_null_cols.sum()"
   ]
  },
  {
   "cell_type": "code",
   "execution_count": null,
   "metadata": {},
   "outputs": [],
   "source": [
    "# Renombro esta columna para que sea mas facil referenciarla\n",
    "df = df.rename(columns={\"Fatal (Y/N)\":\"Fatal\"})"
   ]
  },
  {
   "cell_type": "code",
   "execution_count": null,
   "metadata": {},
   "outputs": [],
   "source": [
    "# Con esta tambien hago lo mismo\n",
    "df = df.rename(columns={\"Species \":\"Species\"})"
   ]
  },
  {
   "cell_type": "code",
   "execution_count": null,
   "metadata": {},
   "outputs": [],
   "source": [
    "# Cambio el tipo de datos de la columna Fatal para evitar futuros errores potenciales conociendo el tipo de datos que contienen\n",
    "df[\"Fatal\"] = df[\"Fatal\"].astype(str)\n",
    "fatal_col_nulls = df[\"Fatal\"].isnull().sum()\n",
    "fatal_col_not_nulls = df[\"Fatal\"].notnull().sum()\n",
    "# Veo cuantos valores nulos y no nulos tienen para hacerme una idea\n",
    "print(\"Fatal total null values:\", fatal_col_nulls)\n",
    "print(\"Fatal total not null values:\", fatal_col_not_nulls)"
   ]
  },
  {
   "cell_type": "code",
   "execution_count": null,
   "metadata": {},
   "outputs": [],
   "source": [
    "# Hago un set para agrupar solo cada valor distinto y al saber que esta columna solo deberia admitir dos valores (Y, N)\n",
    "# Me doy cuenta que hay mas valores distintos de los que me sirven\n",
    "fatal_set = set(df[\"Fatal\"])\n",
    "print(fatal_set)"
   ]
  },
  {
   "cell_type": "code",
   "execution_count": null,
   "metadata": {},
   "outputs": [],
   "source": [
    "# Por otra parte uso el mismo approach para investigar la columnas Species\n",
    "df[\"Species\"].value_counts()\n",
    "species_set = set(df[\"Species\"])\n",
    "species_set\n",
    "df[\"Species\"] = df[\"Species\"].astype(str)"
   ]
  },
  {
   "cell_type": "code",
   "execution_count": null,
   "metadata": {},
   "outputs": [],
   "source": [
    "# Me doy cuenta que en la columna Species hay ciertas filas con valor \"Shark involment not confirmed\"\n",
    "# Procedo a eliminar dichas filas que contengan ese valor para mitigar la ambiguedad en mi dataset\n",
    "# Tambien procedo a eliminar filas vacias en esa columna y registros de ataques que no sean de tiburon\n",
    "df = df[df.Species != \"Shark involvement not confirmed\"]\n",
    "df = df[df.Species != \"nan\"]\n",
    "df = df[df.Species != \"Lesser spotted dogfish, Scyliorhinus canicula, less than 80 cm in length\"]\n",
    "df = df[df.Species != \"NaN\"]\n",
    "df[\"Species\"].value_counts()"
   ]
  },
  {
   "cell_type": "code",
   "execution_count": null,
   "metadata": {},
   "outputs": [],
   "source": [
    "# Hago lo mismo con la columna Fatal y veo que hay mas de dos posibles valores distintos \n",
    "# y cuantos registros hay de cada valor distinto\n",
    "df[\"Fatal\"].value_counts()"
   ]
  },
  {
   "cell_type": "code",
   "execution_count": null,
   "metadata": {},
   "outputs": [],
   "source": [
    "# Procedo a cambiar los registros mal escritos pero cuyo valor no es ambiguo\n",
    "df[\"Fatal\"] = df[\"Fatal\"].str.replace(\" N\",\"N\")\n",
    "df[\"Fatal\"] = df[\"Fatal\"].str.replace(\"N \",\"N\")\n",
    "df[\"Fatal\"] = df[\"Fatal\"].str.replace(\"n\",\"N\")"
   ]
  },
  {
   "cell_type": "code",
   "execution_count": null,
   "metadata": {},
   "outputs": [],
   "source": [
    "# Procedo a eliminar las filas cuyos valores aportan ambiguedad\n",
    "# por ejemplo \"F\" podria ser \"Fatal\" o \"False\"\n",
    "df = df[df.Fatal != \"UNKNOWN\"]\n",
    "df = df[df.Fatal != \"nan\"]\n",
    "df = df[df.Fatal != \"F\"]\n",
    "df = df[df.Fatal != \"#VALUE!\"]\n",
    "df = df[df.Fatal != \"NaN\"]"
   ]
  },
  {
   "cell_type": "code",
   "execution_count": null,
   "metadata": {},
   "outputs": [],
   "source": [
    "# ahora imprimo los valores distintos y su ocurrencia y veo que me he quedado con dos valores distintos\n",
    "# que era lo que me interesaba\n",
    "df[\"Fatal\"].value_counts()"
   ]
  },
  {
   "cell_type": "code",
   "execution_count": null,
   "metadata": {},
   "outputs": [],
   "source": [
    "# Uso el metodo describe para ver un poco la descripcion estadistica y asegurarme de que no se me haya colado otro valor\n",
    "# Notese que pone \"unique 2\" por lo cual todo bajo control\n",
    "df[\"Fatal\"].describe()"
   ]
  },
  {
   "cell_type": "code",
   "execution_count": null,
   "metadata": {},
   "outputs": [],
   "source": [
    "# Veo como va quedando el dataframe\n",
    "df"
   ]
  },
  {
   "cell_type": "code",
   "execution_count": null,
   "metadata": {},
   "outputs": [],
   "source": [
    "# Procedo a hacer lo mismo con la columna Type\n",
    "df[\"Type\"].value_counts()"
   ]
  },
  {
   "cell_type": "code",
   "execution_count": null,
   "metadata": {},
   "outputs": [],
   "source": [
    "# Procedo a eliminar los valores ambiguos\n",
    "df = df[df.Type != \"Sea Disaster\"]\n",
    "df = df[df.Type != \"Invalid\"]\n",
    "df = df[df.Type != \"Boat\"]\n",
    "df = df[df.Type != \"Boating\"]\n",
    "df[\"Type\"].value_counts()"
   ]
  },
  {
   "cell_type": "code",
   "execution_count": null,
   "metadata": {},
   "outputs": [],
   "source": [
    "# Veo un poco la estadistica descriptiva de la columna Species y me doy cuenta de que hay muchos valores distintos\n",
    "df[\"Species\"].describe()"
   ]
  },
  {
   "cell_type": "code",
   "execution_count": null,
   "metadata": {},
   "outputs": [],
   "source": [
    "# Imprimo las ocurrencias de cada valor unico y veo que en cierto punto comienza a haber un desastre\n",
    "df[\"Species\"].value_counts()"
   ]
  },
  {
   "cell_type": "code",
   "execution_count": null,
   "metadata": {},
   "outputs": [],
   "source": [
    "# Comienzo a reemplazar strings que contengan informacion concreta sobre la especie de tiburon involucrado en el ataque\n",
    "df[\"Species\"] = df[\"Species\"].str.replace(\"4.2 m white shark\", \"White shark\")"
   ]
  },
  {
   "cell_type": "code",
   "execution_count": null,
   "metadata": {},
   "outputs": [],
   "source": [
    "# Hago e imprimo un set para ver con detalle cuales son esos miles de valores unicos en esa columna\n",
    "set(df[\"Species\"])"
   ]
  },
  {
   "cell_type": "code",
   "execution_count": null,
   "metadata": {},
   "outputs": [],
   "source": [
    "# Aca comienzo a limpiar manualmente cada valor unico y reasignarlo a su especie\n",
    "# Uso el metodo str.startswith() para ahorrarme cierta cantidad de trabajo donde el nombre del tiburon este al principio\n",
    "df.loc[df['Species'].str.startswith('Bull'), \"Species\"] = 'Bull shark'\n",
    "df.loc[df['Species'].str.startswith('Tiger'), \"Species\"] = 'Tiger shark'\n",
    "df.loc[df['Species'].str.startswith('White shark'), \"Species\"] = 'White shark'\n",
    "df.loc[df['Species'].str.startswith('Lemon'), \"Species\"] = 'Lemon shark'\n",
    "df.loc[df['Species'].str.startswith('Zambesi'), \"Species\"] = 'Zambesi shark'\n",
    "df.loc[df['Species'].str.startswith('Blue'), \"Species\"] = 'Blue shark'\n",
    "df.loc[df['Species'].str.startswith('\\\"sand\\\"'), \"Species\"] = 'Sand shark'\n",
    "df.loc[df['Species'].str.startswith(' Bull'), \"Species\"] = 'Bull shark'\n",
    "df.loc[df['Species'].str.startswith('Bronze'), \"Species\"] = 'Bronze whaler shark'\n",
    "df.loc[df['Species'].str.startswith('Hammerhead'), \"Species\"] = 'Hammerhead shark'\n",
    "df.loc[df['Species'].str.startswith('Raggedtooth'), \"Species\"] = 'Raggedtooth shark'\n",
    "df.loc[df['Species'].str.startswith(' Sandbar'), \"Species\"] = 'Sandbar shark'\n",
    "df.loc[df['Species'].str.startswith(' Sevengill'), \"Species\"] = 'Sevengill shark'\n",
    "df.loc[df['Species'].str.startswith(' Raggedtooth'), \"Species\"] = 'Raggedtooth shark'\n",
    "df.loc[df['Species'].str.startswith(' Tiger'), \"Species\"] = 'Tiger shark'\n",
    "df.loc[df['Species'].str.startswith(' White'), \"Species\"] = 'White shark'\n",
    "df.loc[df['Species'].str.startswith(' Blacktip'), \"Species\"] = 'Blacktip shark'\n",
    "df.loc[df['Species'].str.startswith(' Galapagos'), \"Species\"] = 'Galapagos shark'\n",
    "df.loc[df['Species'].str.startswith(' White'), \"Species\"] = 'White shark'\n",
    "df.loc[df['Species'].str.startswith('Carpet'), \"Species\"] = 'Carpet shark'\n",
    "df.loc[df['Species'].str.startswith('Caribbean'), \"Species\"] = 'Caribbean reef shark'\n",
    "df.loc[df['Species'].str.startswith('Copper'), \"Species\"] = 'Copper shark'\n",
    "df.loc[df['Species'].str.startswith('Dusky'), \"Species\"] = 'Dusky shark'\n",
    "df.loc[df['Species'].str.startswith('Grey reef'), \"Species\"] = 'Grey reef shark'\n",
    "df.loc[df['Species'].str.startswith('Grey nurse'), \"Species\"] = 'Grey nurse shark'\n",
    "df.loc[df['Species'].str.startswith('Oceanic'), \"Species\"] = 'Oceanic whitetip shark'\n",
    "df.loc[df['Species'].str.startswith('Wobbegong'), \"Species\"] = 'Wobbegong whitetip shark'\n",
    "df.loc[df['Species'].str.startswith('Zambesi'), \"Species\"] = 'Zambesi shark'\n",
    "df.loc[df['Species'].str.startswith('Unknown'), \"Species\"] = 'Unidentified species'\n",
    "df.loc[df['Species'].str.startswith('Whitetip'), \"Species\"] = 'Whitetip reef shark'\n",
    "df.loc[df['Species'].str.startswith('Whaler'), \"Species\"] = 'Whaler shark'\n",
    "df.loc[df['Species'].str.startswith('reef'), \"Species\"] = 'Reef shark'\n",
    "df.loc[df['Species'].str.startswith('Thought'), \"Species\"] = 'Unidentified species'\n",
    "df.loc[df['Species'].str.startswith('Spinner'), \"Species\"] = 'Spinner shark'\n",
    "df.loc[df['Species'].str.startswith('Tawny'), \"Species\"] = 'Tawny shark'\n",
    "df.loc[df['Species'].str.startswith(' Tawney'), \"Species\"] = 'Tawny shark'\n",
    "df.loc[df['Species'].str.startswith('Mako'), \"Species\"] = 'Mako shark'\n",
    "df.loc[df['Species'].str.startswith('Nurse'), \"Species\"] = 'Nurse shark'\n",
    "df.loc[df['Species'].str.startswith('Reef'), \"Species\"] = 'Reef shark'\n",
    "df.loc[df['Species'].str.startswith('Sand'), \"Species\"] = 'Sand shark'\n",
    "df.loc[df['Species'].str.startswith('Unidentified'), \"Species\"] = 'Unidentified species'\n",
    "df.loc[df['Species'].str.startswith('Possibly'), \"Species\"] = 'Unidentified species'\n",
    "df.loc[df['Species'].str.startswith('Said'), \"Species\"] = 'Unidentified species'\n",
    "df.loc[df['Species'].str.startswith('Sevengill'), \"Species\"] = 'Sevengill shark'\n",
    "df.loc[df['Species'].str.startswith('Silky'), \"Species\"] = 'Silky shark'\n",
    "df.loc[df['Species'].str.startswith('Species'), \"Species\"] = 'Unidentified species'\n",
    "df.loc[df['Species'].str.startswith('Spurdog'), \"Species\"] = 'Spurdog shark'\n",
    "df.loc[df['Species'].str.startswith('Seven-gill'), \"Species\"] = 'Sevengill shark'\n",
    "df.loc[df['Species'].str.startswith('Reported'), \"Species\"] = 'Unidentified species'\n",
    "df.loc[df['Species'].str.startswith('Remains'), \"Species\"] = 'Unidentified species'\n",
    "df.loc[df['Species'].str.startswith('Shortfin'), \"Species\"] = 'Mako shark'\n",
    "df.loc[df['Species'].str.startswith('Zambezi'), \"Species\"] = 'Zambesi shark'\n",
    "df.loc[df['Species'].str.startswith('said'), \"Species\"] = 'Unidentified species'\n",
    "df.loc[df['Species'].str.startswith('possibly'), \"Species\"] = 'Unidentified species'\n",
    "df.loc[df['Species'].str.startswith('Though'), \"Species\"] = 'Unidentified species'\n",
    "df.loc[df['Species'].str.startswith('dogfish'), \"Species\"] = 'Dogfish shark'\n",
    "df.loc[df['Species'].str.startswith('bull'), \"Species\"] = 'Bull shark'\n",
    "df.loc[df['Species'].str.startswith('Bull'), \"Species\"] = 'Bull shark'\n",
    "df.loc[df['Species'].str.startswith('nurse'), \"Species\"] = 'Nurse shark'\n",
    "df.loc[df['Species'].str.startswith('sandtiger'), \"Species\"] = 'Sandtiger shark'\n",
    "df.loc[df['Species'].str.startswith('sand'), \"Species\"] = 'Sand shark'\n",
    "df.loc[df['Species'].str.startswith('Undefined'), \"Species\"] = 'Unidentified species'\n",
    "df.loc[df['Species'].str.startswith('reef'), \"Species\"] = 'Reef shark'\n",
    "df.loc[df['Species'].str.startswith(' reef'), \"Species\"] = 'Reef shark'\n",
    "df.loc[df['Species'].str.startswith(' white'), \"Species\"] = 'White shark'\n",
    "df.loc[df['Species'].str.startswith(' a small shark'), \"Species\"] = 'Unidentified species'\n",
    "df.loc[df['Species'].str.startswith('\\\"A 2\\' (0.6 m) brown shark\\\"'), \"Species\"] = 'Unidentified species'\n",
    "df.loc[df['Species'].str.startswith('\\\"A long thin brown-colored shark\\\"'), \"Species\"] = 'Unidentified species'\n",
    "df.loc[df['Species'].str.startswith('\\\"A pack of sharks\\\"'), \"Species\"] = 'Unidentified species'\n",
    "df.loc[df['Species'].str.startswith('\\\"A small shark\\\"'), \"Species\"] = 'Unidentified species'\n",
    "df.loc[df['Species'].str.startswith(' Unidentified'), \"Species\"] = 'Unidentified species'"
   ]
  },
  {
   "cell_type": "code",
   "execution_count": null,
   "metadata": {},
   "outputs": [],
   "source": [
    "set(df['Species'])"
   ]
  },
  {
   "cell_type": "code",
   "execution_count": null,
   "metadata": {},
   "outputs": [],
   "source": [
    "# Aqui uso el metodo str.replace() para reemplazar valores mas complejos de extraer\n",
    "df[\"Species\"] = df[\"Species\"].str.replace(\"1 m hammerhead shark\", \"Hammerhead shark\")\n",
    "df[\"Species\"] = df[\"Species\"].str.replace(\"1.5 m to 1.8 m [5' to 6']  blacktip shark\", \"Blacktip shark\")\n",
    "df[\"Species\"] = df[\"Species\"].str.replace(\"1.5 m to 1.8 m [5' to 6'] Zambesi shark\", \"Zambesi shark\")\n",
    "df[\"Species\"] = df[\"Species\"].str.replace(\"1.5 m to 1.8 m [5' to 6'] sandbar shark\", \"Sandbar shark\")\n",
    "df[\"Species\"] = df[\"Species\"].str.replace(\"\\\"a black-tipped shark\\\"\", \"Blacktip shark\")\n",
    "df[\"Species\"] = df[\"Species\"].str.replace(\"\\\"a blue shark\\\"\", \"Blue shark\")\n",
    "df[\"Species\"] = df[\"Species\"].str.replace(\"\\\"a dog shark\\\"\", \"Dog shark\")\n",
    "df[\"Species\"] = df[\"Species\"].str.replace(\"\\\"a little shark\\\"\", \"Unidentified species\")\n",
    "df[\"Species\"] = df[\"Species\"].str.replace(\"\\\"a large shark\\\"\", \"Unidentified species\")\n",
    "df[\"Species\"] = df[\"Species\"].str.replace(\"\\\"a small shark\\\"\", \"Unidentified species\")\n",
    "df[\"Species\"] = df[\"Species\"].str.replace(\"\\\"a young shark\\\"\", \"Unidentified species\")\n",
    "df[\"Species\"] = df[\"Species\"].str.replace(\"\\\"reef shark\\\"\", \"Reef shark\")\n",
    "df[\"Species\"] = df[\"Species\"].str.replace(\" \\\"gummy\\\" shark (Rhizoprionodon or Loxodon) 1.2 m [4\\']\", \"Unidentified species\")\n",
    "df[\"Species\"] = df[\"Species\"].str.replace(\"\\\"black tipped\\\" shark\", \"Black-tipped shark\")\n",
    "df[\"Species\"] = df['Species'].str.replace('\\\"gray shark\\\"', 'Grey shark')\n",
    "df[\"Species\"] = df['Species'].str.replace('\\\"grey shark\\\"', 'Grey shark')\n",
    "df[\"Species\"] = df['Species'].str.replace('  \"gummy\" shark (Rhizoprionodon or Loxodon) 1.2 m [4\\']', 'Unidentified species')\n",
    "df[\"Species\"] = df['Species'].str.replace('Juvenile dusky or blacktip shark', 'Unidentified species')\n",
    "df[\"Species\"] = df['Species'].str.replace('Wobbegong shark?', 'Unidentified species')\n",
    "df[\"Species\"] = df['Species'].str.replace('Zambezi shark (tooth fragments recovered)',  'Zambesi shark')\n",
    "df[\"Species\"] = df['Species'].str.replace('Whtietip reef shark',  'Whitetip reef shark')\n",
    "df[\"Species\"] = df['Species'].str.replace('Undefined shark',  'Unidentified species')\n",
    "df[\"Species\"] = df['Species'].str.replace('Unidentified shark',  'Unidentified species')\n",
    "df[\"Species\"] = df['Species'].str.replace('Undefined species',  'Unidentified species')\n",
    "df[\"Species\"] = df['Species'].str.replace('a sand shark',  'Sand shark')\n",
    "df[\"Species\"] = df['Species'].str.replace('a small reef shark',  'Reef shark')\n",
    "df[\"Species\"] = df['Species'].str.replace('\\\"Blue whaler\\\" (Galeolamna)',  'Unidentified species')\n",
    "df[\"Species\"] = df['Species'].str.replace('\\\"sand shark\\\"',  'Sand shark')"
   ]
  },
  {
   "cell_type": "code",
   "execution_count": null,
   "metadata": {},
   "outputs": [],
   "source": [
    "# Veo que el set se redujo mucho pero aun no es lo ideal y me rindo\n",
    "set(df[\"Species\"])\n"
   ]
  },
  {
   "cell_type": "code",
   "execution_count": null,
   "metadata": {},
   "outputs": [],
   "source": [
    "# Aqui veo cuales son las ocurrencias por cada especie unica y me veo que la suma de los 5 primeros\n",
    "# es mas de 600 lo cual me aperece adecuado\n",
    "# ya que es impensable que los 2500 ataques hayan sido provocados por 2500 distintas especies de tiburon\n",
    "df[\"Species\"].value_counts()"
   ]
  },
  {
   "cell_type": "code",
   "execution_count": null,
   "metadata": {},
   "outputs": [],
   "source": [
    "# Aqui me propongo a sacar un piechart de las primeras 5 especies con mayor ocurrencias de ataques\n",
    "# Lo cual constituye mi primera hipotesis\n",
    "labels = 'White shark', 'Tiger shark', 'Unidentified species', 'Bull shark', \"Bronze whaler shark\"\n",
    "sizes = [333, 198, 152, 119, 55]\n",
    "colors = ['gold', 'yellowgreen', 'lightcoral', 'lightskyblue', \"purple\"]\n",
    "explode = (0, 0, 0, 0, 0) \n",
    "\n",
    "plt.pie(sizes, explode=explode, labels=labels, colors=colors,\n",
    "autopct='%1.1f%%', shadow=False, startangle=140)\n",
    "\n",
    "plt.axis('equal')\n",
    "plt.show()\n",
    "# Como se aprecia en el grafico generado el tiburon blanco es el que tiene mas ocurrencias de ataques."
   ]
  },
  {
   "cell_type": "code",
   "execution_count": null,
   "metadata": {},
   "outputs": [],
   "source": [
    "# Aqui veo que valores unicos tienen las filas de la columna Activity\n",
    "# y la elimino por irrelevante con respecto a mis objetivos\n",
    "Activity_set = set(df[\"Activity\"])\n",
    "Activity_set\n",
    "df = df.drop(\"Activity\", axis=1)"
   ]
  },
  {
   "cell_type": "code",
   "execution_count": null,
   "metadata": {},
   "outputs": [],
   "source": [
    "# Imprimo la descripcion estadistica de la columna Type\n",
    "df[\"Type\"].describe()"
   ]
  },
  {
   "cell_type": "code",
   "execution_count": null,
   "metadata": {},
   "outputs": [],
   "source": [
    "# Hago lo mismo con la columna Fatal\n",
    "df[\"Fatal\"].describe()"
   ]
  },
  {
   "cell_type": "code",
   "execution_count": null,
   "metadata": {},
   "outputs": [],
   "source": [
    "# Elimino la columna species despues de haber logrado el grafico final\n",
    "df = df.drop(\"Species\", axis=1)"
   ]
  },
  {
   "cell_type": "code",
   "execution_count": null,
   "metadata": {},
   "outputs": [],
   "source": [
    "# Imprimo una descriptcion estadistica de todo el dataframe\n",
    "df.describe()"
   ]
  },
  {
   "cell_type": "code",
   "execution_count": null,
   "metadata": {},
   "outputs": [],
   "source": [
    "# Hago un dataframe subconjunto del original pero filtrado en base a ciertas condiciones\n",
    "# En este caso particular quiero los ataques no provocado y no fatales\n",
    "unprov_not_fatal = df[(df[\"Type\"] == \"Unprovoked\") & (df[\"Fatal\"] == \"N\")]"
   ]
  },
  {
   "cell_type": "code",
   "execution_count": null,
   "metadata": {},
   "outputs": [],
   "source": [
    "# Aqui veo el resultado\n",
    "unprov_not_fatal.describe()"
   ]
  },
  {
   "cell_type": "code",
   "execution_count": null,
   "metadata": {},
   "outputs": [],
   "source": [
    "# En otro dataframe quiero los ataques no provocados pero fatales\n",
    "unprov_fatal = df[(df[\"Type\"] == \"Unprovoked\") & (df[\"Fatal\"] == \"Y\")]\n",
    "unprov_fatal.describe()"
   ]
  },
  {
   "cell_type": "code",
   "execution_count": null,
   "metadata": {},
   "outputs": [],
   "source": [
    "# Aqui quiero los provocados no fatales\n",
    "prov_not_fatal = df[(df[\"Type\"] == \"Provoked\") & (df[\"Fatal\"] == \"N\")]\n",
    "prov_not_fatal.describe()"
   ]
  },
  {
   "cell_type": "code",
   "execution_count": null,
   "metadata": {},
   "outputs": [],
   "source": [
    "# y respectivamente los provocados y fatales\n",
    "prov_fatal = df[(df[\"Type\"] == \"Provoked\") & (df[\"Fatal\"] == \"Y\")]\n",
    "prov_fatal.describe()"
   ]
  },
  {
   "cell_type": "code",
   "execution_count": null,
   "metadata": {},
   "outputs": [],
   "source": [
    "# Aqui procedo a graficar en base a la informacion de cada dataframe derivado del original\n",
    "labels = 'Unprovoked not fatal', 'Unprovoked fatal', 'Provoked not fatal', 'Provoked fatal'\n",
    "sizes = [1764, 381, 388, 6]\n",
    "colors = ['gold', 'yellowgreen', 'lightcoral', 'lightskyblue']\n",
    "explode = (0, 0, 0, 0.1)  # explode 1st slice\n",
    "\n",
    "plt.pie(sizes, explode=explode, labels=labels, colors=colors,\n",
    "autopct='%1.1f%%', shadow=False, startangle=140)\n",
    "\n",
    "plt.axis('equal')\n",
    "plt.show()"
   ]
  },
  {
   "cell_type": "code",
   "execution_count": null,
   "metadata": {},
   "outputs": [],
   "source": [
    "# Basado en la grafica generada el 69.5% de los ataques son no fatales y no provocados\n",
    "# y solamente un 0.2% corresponden a ataques fatales y provocados\n",
    "# lo cual me proporciona informacion suficiente para creer (y concluir) que los tiburones son de naturaleza \"reactiva\"\n",
    "# y no tienden a atacar a los seres humanos y si lo hacen luego huyen (por ende la gran cantidad de ataques no fatales)\n",
    "# una especulacion basada en esta data es que tal vez los tiburones ataquen al ser humano por curiosidad y al ver que\n",
    "# no es su tipo de alimento preferido se alejan, y el victimario podria sobrevivir o morir como consecuencia de \n",
    "# una hemorragia.\n",
    "# por otro lado me hace pensar creer que \"provocar\" a un tiburon tiene que ver mas con interactuar con sus intereses\n",
    "# como por ejemplo acercarse mucho a sus crias o interactuar con un animal que sea su alimento."
   ]
  }
 ],
 "metadata": {
  "kernelspec": {
   "display_name": "Python 3",
   "language": "python",
   "name": "python3"
  },
  "language_info": {
   "codemirror_mode": {
    "name": "ipython",
    "version": 3
   },
   "file_extension": ".py",
   "mimetype": "text/x-python",
   "name": "python",
   "nbconvert_exporter": "python",
   "pygments_lexer": "ipython3",
   "version": "3.7.4"
  }
 },
 "nbformat": 4,
 "nbformat_minor": 2
}
